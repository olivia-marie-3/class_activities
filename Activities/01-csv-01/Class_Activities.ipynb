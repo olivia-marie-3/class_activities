{
 "cells": [
  {
   "cell_type": "code",
   "execution_count": null,
   "metadata": {},
   "outputs": [],
   "source": [
    "##1. Import the `pandas` and `pathlib` libraries.\n",
    "##2. Create a variable `csvpath` that represents the path to the [people.csv](Resources/people.csv) using the Pathlib library.\n",
    "\n",
    "##3. Read the CSV into a Pandas DataFrame using the `csvpath` variable.\n",
    "\n",
    "##4. Display a few rows of the DataFrame.\n",
    "\n",
    "##5. Generate summary statistics on the DataFrame. Use the `include` parameter and set it to `all`.\n",
    "\n",
    "---"
   ]
  },
  {
   "cell_type": "code",
   "execution_count": 1,
   "metadata": {},
   "outputs": [],
   "source": [
    "import pandas as pd\n",
    "import pathlib as Path"
   ]
  },
  {
   "cell_type": "code",
   "execution_count": null,
   "metadata": {},
   "outputs": [],
   "source": []
  }
 ],
 "metadata": {
  "kernelspec": {
   "display_name": "Python 3",
   "language": "python",
   "name": "python3"
  },
  "language_info": {
   "codemirror_mode": {
    "name": "ipython",
    "version": 3
   },
   "file_extension": ".py",
   "mimetype": "text/x-python",
   "name": "python",
   "nbconvert_exporter": "python",
   "pygments_lexer": "ipython3",
   "version": "3.7.6"
  }
 },
 "nbformat": 4,
 "nbformat_minor": 4
}
